{
  "nbformat": 4,
  "nbformat_minor": 0,
  "metadata": {
    "colab": {
      "provenance": []
    },
    "kernelspec": {
      "name": "python3",
      "display_name": "Python 3"
    },
    "language_info": {
      "name": "python"
    }
  },
  "cells": [
    {
      "cell_type": "code",
      "execution_count": 1,
      "metadata": {
        "colab": {
          "base_uri": "https://localhost:8080/"
        },
        "id": "AUgTyYKr3t4H",
        "outputId": "dac12458-d71d-4fc2-c755-bb6a59a5f8ed"
      },
      "outputs": [
        {
          "output_type": "stream",
          "name": "stdout",
          "text": [
            "551300\n",
            "7450.0\n"
          ]
        }
      ],
      "source": [
        "data = [x for x in range(1,150) if x %2 != 1]\n",
        "rumus = [x**2 for x in data]\n",
        "total = sum(rumus)\n",
        "avg = total/len(rumus)\n",
        "print(total)\n",
        "print(avg)"
      ]
    },
    {
      "cell_type": "code",
      "source": [
        "def rata_rata(x):\n",
        "  total = sum(x)/len(x)\n",
        "  print(total)\n",
        "\n",
        "data = [25, 60, 15]\n",
        "rata_rata(data)"
      ],
      "metadata": {
        "colab": {
          "base_uri": "https://localhost:8080/"
        },
        "id": "sbFkTwvw9z8z",
        "outputId": "400638d3-0067-47ae-aacc-303e7a869a4f"
      },
      "execution_count": 5,
      "outputs": [
        {
          "output_type": "stream",
          "name": "stdout",
          "text": [
            "33.333333333333336\n"
          ]
        }
      ]
    },
    {
      "cell_type": "code",
      "source": [
        "total_belanja = int(input('Total Belanja Anda : Rp. '))\n",
        "if total_belanja > 150000:\n",
        "  print('Selamat Anda Mendapatkan Diskon Sebesar 10%')\n",
        "  print(\" \")\n",
        "\n",
        "  diskon = total_belanja * 10/100\n",
        "  total_bayar = total_belanja - diskon\n",
        "\n",
        "  print('Potongan Harga Sebesar : Rp. ', diskon)\n",
        "  print('Total Yang Harus Dibayar : Rp. ', total_bayar)\n",
        "\n",
        "print(\" \")\n",
        "print('Terimakasih sudah berbelanja di Toko KITA')"
      ],
      "metadata": {
        "colab": {
          "base_uri": "https://localhost:8080/"
        },
        "id": "678JXjIuD1DE",
        "outputId": "18c0dda2-e6fc-4aa0-8f58-7832ba27fd74"
      },
      "execution_count": 12,
      "outputs": [
        {
          "output_type": "stream",
          "name": "stdout",
          "text": [
            "Total Belanja Anda : Rp. 200000\n",
            "Selamat Anda Mendapatkan Diskon Sebesar 10%\n",
            " \n",
            "Potongan Harga Sebesar : Rp.  20000.0\n",
            "Total Yang Harus Dibayar : Rp.  180000.0\n",
            " \n",
            "Terimakasih sudah berbelanja di Toko KITA\n"
          ]
        }
      ]
    },
    {
      "cell_type": "code",
      "source": [
        "while True:\n",
        "  total_belanja = int(input('Total Belanja Anda : Rp. '))\n",
        "  if total_belanja > 150000:\n",
        "    print('Selamat Anda Mendapatkan Diskon Sebesar 10%')\n",
        "    diskon = total_belanja * 10/100\n",
        "    total_bayar = total_belanja - diskon\n",
        "    print('Potongan Harga Sebesar : Rp. ', diskon)\n",
        "    print('Total Yang Harus Dibayar : Rp. ', total_bayar)\n",
        "    break\n",
        "  else:\n",
        "    print('Maaf, Tidak Ada Diskon / Potongan Harga')\n",
        "\n",
        "print('Terimakasih sudah berbelanja di Toko KITA')"
      ],
      "metadata": {
        "colab": {
          "base_uri": "https://localhost:8080/"
        },
        "id": "GbGSt-DGGbQc",
        "outputId": "9ebe3903-cbe2-4c70-acce-fd47105f1259"
      },
      "execution_count": 18,
      "outputs": [
        {
          "output_type": "stream",
          "name": "stdout",
          "text": [
            "Total Belanja Anda : Rp. 10000\n",
            "Maaf, Tidak Ada Diskon / Potongan Harga\n",
            "Total Belanja Anda : Rp. 500000\n",
            "Selamat Anda Mendapatkan Diskon Sebesar 10%\n",
            "Potongan Harga Sebesar : Rp.  50000.0\n",
            "Total Yang Harus Dibayar : Rp.  450000.0\n",
            "Terimakasih sudah berbelanja di Toko KITA\n"
          ]
        }
      ]
    },
    {
      "cell_type": "code",
      "source": [
        "a = int(input(\"masukan bilangan : \"))\n",
        "if a <= 100:\n",
        "  print('small value')\n",
        "elif a <= 250:\n",
        "  print('medium value')\n",
        "else:\n",
        "  print('big value')"
      ],
      "metadata": {
        "colab": {
          "base_uri": "https://localhost:8080/"
        },
        "id": "N0ZQPQ4q4OYf",
        "outputId": "1fe4f34f-2b96-4e31-cc9c-535df7f9ec8a"
      },
      "execution_count": null,
      "outputs": [
        {
          "output_type": "stream",
          "name": "stdout",
          "text": [
            "masukan bilangan : 500\n",
            "big value\n"
          ]
        }
      ]
    },
    {
      "cell_type": "code",
      "source": [
        "while True:\n",
        "  a = int(input(\"masukkan bilangan : \"))\n",
        "  if a <= 100:\n",
        "    print('small value')\n",
        "  elif a <= 250:\n",
        "    print('medium value')\n",
        "  else:\n",
        "    print('big value')\n",
        "    break"
      ],
      "metadata": {
        "colab": {
          "base_uri": "https://localhost:8080/"
        },
        "id": "rzste6EJ4kRT",
        "outputId": "7d414948-b20a-46ac-9f0c-488c259656f6"
      },
      "execution_count": 6,
      "outputs": [
        {
          "output_type": "stream",
          "name": "stdout",
          "text": [
            "masukkan bilangan : 56\n",
            "small value\n",
            "masukkan bilangan : 234\n",
            "medium value\n",
            "masukkan bilangan : 600\n",
            "big value\n"
          ]
        }
      ]
    },
    {
      "cell_type": "code",
      "source": [
        "nilai = int(input(\"Masukkan nilai : \"))\n",
        "if nilai >= 70:\n",
        "  print(\"Selamat, Anda Lulus Dengan Nilai Yang Baik\")\n",
        "else:\n",
        "  print(\"Tingkatkan Lagi Belajarmu\")"
      ],
      "metadata": {
        "colab": {
          "base_uri": "https://localhost:8080/"
        },
        "id": "_zYq9C_TKMgC",
        "outputId": "b647fd7d-519a-4183-a64c-69f5c1ecca8c"
      },
      "execution_count": 23,
      "outputs": [
        {
          "output_type": "stream",
          "name": "stdout",
          "text": [
            "Masukkan nilai : 97\n",
            "Selamat, Anda Lulus Dengan Nilai Yang Baik\n"
          ]
        }
      ]
    },
    {
      "cell_type": "code",
      "source": [
        "password = input(\"masukkan password : \")\n",
        "panjang = len(password) > 5\n",
        "angka =\"2\" in password\n",
        "kapital = \"A\" in password\n",
        "karakter =\"_\" in password\n",
        "if panjang != True:\n",
        "    print(\"invalid, password Anda terlalu pendek\")\n",
        "elif angka != True:\n",
        "    print(\"invalid, password harus mengandung angka 2\")\n",
        "elif kapital != True:\n",
        "    print(\"invalid, password harus mengandung huruf kapital A\")\n",
        "elif karakter != True:\n",
        "    print(\"invalid, password harus mengandung karakter _\")\n",
        "else:\n",
        "    print(\"berhasil, password valid\")"
      ],
      "metadata": {
        "colab": {
          "base_uri": "https://localhost:8080/"
        },
        "id": "J7qKvDtb4qru",
        "outputId": "70d78103-d9bd-450e-f5cf-94c6cc854d84"
      },
      "execution_count": null,
      "outputs": [
        {
          "output_type": "stream",
          "name": "stdout",
          "text": [
            "masukkan password : putriAmal_20\n",
            "berhasil, password valid\n"
          ]
        }
      ]
    },
    {
      "cell_type": "code",
      "source": [
        "while True:\n",
        "  password = input(\"masukkan password : \")\n",
        "  panjang = len(password) > 5\n",
        "  angka =\"2\" in password\n",
        "  kapital = \"A\" in password\n",
        "  karakter =\"_\" in password\n",
        "  if panjang != True:\n",
        "    print(\"invalid, password Anda terlalu pendek\")\n",
        "  elif angka != True:\n",
        "    print(\"invalid, password harus mengandung angka 2\")\n",
        "  elif kapital != True:\n",
        "    print(\"invalid, password harus mengandung huruf kapital A\")\n",
        "  elif karakter != True:\n",
        "    print(\"invalid, password harus mengandung karakter _\")\n",
        "  else:\n",
        "    print(\"berhasil, password valid\")\n",
        "    break"
      ],
      "metadata": {
        "colab": {
          "base_uri": "https://localhost:8080/"
        },
        "id": "_l41luIj4zPB",
        "outputId": "6db3a6eb-6cf1-4e33-cd34-43fa1c9565b9"
      },
      "execution_count": null,
      "outputs": [
        {
          "output_type": "stream",
          "name": "stdout",
          "text": [
            "masukkan password : putri\n",
            "invalid, password Anda terlalu pendek\n",
            "masukkan password : putri07\n",
            "invalid, password harus mengandung angka 2\n",
            "masukkan password : putri20\n",
            "invalid, password harus mengandung huruf kapital A\n",
            "masukkan password : putriAmal20\n",
            "invalid, password harus mengandung karakter _\n",
            "masukkan password : putriAmal_20\n",
            "berhasil, password valid\n"
          ]
        }
      ]
    },
    {
      "cell_type": "code",
      "source": [
        "count=0 #variabel hitung\n",
        "contoh_list=['acc', 'xyz', 'aba', '1221'] #list\n",
        "for i in range(len(contoh_list)): #untuk(perulangan) index dalam range panjang(len) contoh_list (dimana len(contoh list) sebesau 4 dengan index 0 - 3)\n",
        "    if(contoh_list[i][0] == contoh_list[i][-1]): #jika contoh list index 0 (1) sama dengan index contoh list -1 (1)\n",
        "        count += 1 # maka variabel akan mengalami penambahan 1 di setiap perulangan\n",
        "print('jumlah string yg sama=',count) "
      ],
      "metadata": {
        "id": "h2pIf3Xx4_X3",
        "colab": {
          "base_uri": "https://localhost:8080/"
        },
        "outputId": "479fa0da-7a41-4111-a0eb-5e7760bdb599"
      },
      "execution_count": 2,
      "outputs": [
        {
          "output_type": "stream",
          "name": "stdout",
          "text": [
            "jumlah string yg sama= 2\n"
          ]
        }
      ]
    },
    {
      "cell_type": "code",
      "source": [
        "while True:\n",
        "  kata = input(\"masukkan kata : \")\n",
        "  if kata == kata[::-1]:\n",
        "    print(\"kata merupakan palidrom\")\n",
        "    break\n",
        "  else:\n",
        "    print(\"kata bukan palidrom\")"
      ],
      "metadata": {
        "colab": {
          "base_uri": "https://localhost:8080/"
        },
        "id": "iYHDD22n5mH8",
        "outputId": "74bad690-53b5-48f5-8bed-c4f2b16e0111"
      },
      "execution_count": null,
      "outputs": [
        {
          "output_type": "stream",
          "name": "stdout",
          "text": [
            "masukkan kata : kasur\n",
            "kata bukan palidrom\n",
            "masukkan kata : katak\n",
            "kata merupakan palidrom\n"
          ]
        }
      ]
    },
    {
      "cell_type": "code",
      "source": [
        "def hitung(s):\n",
        "  a = {'upper':0,'lower':0}\n",
        "  for x in s:\n",
        "    if x.isupper():\n",
        "      a ['upper'] += 1\n",
        "    elif x.islower():\n",
        "      a ['lower'] += 1\n",
        "  print('kata : ', s)\n",
        "  print('jumlah huruf kapital : ', a['upper'])\n",
        "  print('jumlah huruf kecil : ', a['lower'])\n",
        "  print(\" \")\n",
        "hitung('PutriAmalia')"
      ],
      "metadata": {
        "colab": {
          "base_uri": "https://localhost:8080/"
        },
        "id": "syGrZ_5A5n7j",
        "outputId": "395040ec-adbe-437a-9abb-cccb63b5ea0e"
      },
      "execution_count": 4,
      "outputs": [
        {
          "output_type": "stream",
          "name": "stdout",
          "text": [
            "kata :  PutriAmalia\n",
            "jumlah huruf kapital :  2\n",
            "jumlah huruf kecil :  9\n",
            " \n"
          ]
        }
      ]
    },
    {
      "cell_type": "code",
      "source": [
        "bil = int(input(\"Masukkan bilangan : \"))\n",
        "print(\" \")\n",
        "\n",
        "for i in range(1,bil+1):\n",
        "  if i % 2 == 0:\n",
        "    print(\"Bilangan Genap : \", i)\n",
        "    continue #jika kondisi if salah maka bilangan tersebut di continue/skip, dan dieksekusi oleh print selanjutnya\n",
        "  print(\"Bilangan Ganjil : \", i)"
      ],
      "metadata": {
        "colab": {
          "base_uri": "https://localhost:8080/"
        },
        "id": "_CM10zKlMT8Q",
        "outputId": "74140900-1b6e-4950-8b71-3a823f09a316"
      },
      "execution_count": 38,
      "outputs": [
        {
          "output_type": "stream",
          "name": "stdout",
          "text": [
            "Masukkan bilangan : 5\n",
            " \n",
            "Bilangan Ganjil :  1\n",
            "Bilangan Genap :  2\n",
            "Bilangan Ganjil :  3\n",
            "Bilangan Genap :  4\n",
            "Bilangan Ganjil :  5\n"
          ]
        }
      ]
    },
    {
      "cell_type": "code",
      "source": [
        "kata = [\"putri\",\"amal\",\"tri\",\"amalia\",\"lia\"]\n",
        "for i in kata:\n",
        "  if len(i)%2==1:\n",
        "    print(i)"
      ],
      "metadata": {
        "colab": {
          "base_uri": "https://localhost:8080/"
        },
        "id": "m2FxcQrX5sPn",
        "outputId": "07649800-9785-47a3-c8fa-9f22ae021bfd"
      },
      "execution_count": null,
      "outputs": [
        {
          "output_type": "stream",
          "name": "stdout",
          "text": [
            "putri\n",
            "tri\n",
            "lia\n"
          ]
        }
      ]
    },
    {
      "cell_type": "code",
      "source": [
        "kata = [\"putri\",\"amal\",\"tri\",\"amalia\",\"lia\"]\n",
        "for i in kata:\n",
        "  if len(i)%2==0:\n",
        "    print(i)"
      ],
      "metadata": {
        "colab": {
          "base_uri": "https://localhost:8080/"
        },
        "id": "y7sUGIJX5xfz",
        "outputId": "ce2e1286-d0ae-4dbe-f2ce-08524f51e368"
      },
      "execution_count": null,
      "outputs": [
        {
          "output_type": "stream",
          "name": "stdout",
          "text": [
            "amal\n",
            "amalia\n"
          ]
        }
      ]
    }
  ]
}